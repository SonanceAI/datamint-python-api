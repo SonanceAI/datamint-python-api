{
 "cells": [
  {
   "cell_type": "markdown",
   "metadata": {},
   "source": [
    "# Dataset visualization Tutorial 📊\n",
    "\n",
    "This notebook demonstrates how to work with an example project using the datamint library. You'll learn how to load data, visualize images and segmentations, and work with both multi-frame and single-frame approaches.\n",
    "\n",
    "## Table of Contents\n",
    "- [Setup](#setup) 🛠️\n",
    "- [Data Loading](#data-loading) 📥\n",
    "- [Exploring Dataset Structure](#exploring-dataset-structure) 🔍\n",
    "- [Visualizing Images](#visualizing-images) 🖼️\n",
    "- [Visualizing Segmentations](#visualizing-segmentations) 🖼️\n",
    "- [Frame-by-Frame Loading](#frame-by-frame-loading) 🎞️"
   ]
  },
  {
   "cell_type": "markdown",
   "metadata": {},
   "source": [
    "# Setup 🛠️\n",
    "\n",
    "Update your datamint package to the latest version, if you haven't already:"
   ]
  },
  {
   "cell_type": "code",
   "execution_count": null,
   "metadata": {},
   "outputs": [],
   "source": [
    "%pip install -U datamint --quiet"
   ]
  },
  {
   "cell_type": "markdown",
   "metadata": {},
   "source": [
    "configure your API key with the command-line tool: (see [Setup API key](https://sonanceai.github.io/datamint-python-api/setup_api_key.html) for other methods)"
   ]
  },
  {
   "cell_type": "code",
   "execution_count": null,
   "metadata": {},
   "outputs": [
    {
     "name": "stdout",
     "output_type": "stream",
     "text": [
      "API key saved.                                                                  \n"
     ]
    }
   ],
   "source": [
    "!datamint-config --api-key <YOUR_API_KEY_HERE>"
   ]
  },
  {
   "cell_type": "markdown",
   "metadata": {},
   "source": [
    "## Setup-up example Project and data (optional)\n",
    "\n",
    "You can skip this step if you already have a project set up.\n",
    "\n",
    "Creating the example project:"
   ]
  },
  {
   "cell_type": "code",
   "execution_count": null,
   "metadata": {},
   "outputs": [],
   "source": [
    "from datamint.examples import ProjectMR\n",
    "\n",
    "PROJECT_NAME = 'Example Project MR'\n",
    "\n",
    "proj = ProjectMR.create(project_name=PROJECT_NAME,\n",
    "                        with_annotations=True)\n",
    "print(f\"Check your project at {proj.url}\")"
   ]
  },
  {
   "cell_type": "markdown",
   "metadata": {},
   "source": [
    "## Get existing Project"
   ]
  },
  {
   "cell_type": "code",
   "execution_count": null,
   "metadata": {},
   "outputs": [],
   "source": [
    "from datamint import Api\n",
    "\n",
    "PROJECT_NAME = 'My Project Name'  # change to your project name\n",
    "\n",
    "api = Api()\n",
    "proj = api.projects.get_by_name(PROJECT_NAME)  # proj is a Project object with proper attributes and type hints\n",
    "if proj is None:\n",
    "    _LOGGER.error(f\"Project with name '{PROJECT_NAME}' not found.\")\n",
    "else:\n",
    "    # but you can convert to a dictionary if you want\n",
    "    display(proj.asdict())"
   ]
  },
  {
   "cell_type": "markdown",
   "metadata": {},
   "source": [
    "# Data loading 📥"
   ]
  },
  {
   "cell_type": "markdown",
   "metadata": {},
   "source": [
    "Lets first define the data which we want to download."
   ]
  },
  {
   "cell_type": "code",
   "execution_count": null,
   "metadata": {},
   "outputs": [],
   "source": [
    "from datamint import Dataset\n",
    "\n",
    "D = Dataset(\n",
    "    project_name=PROJECT_NAME,\n",
    "    return_as_semantic_segmentation=True,\n",
    "    all_annotations=True\n",
    ") # This automatically downloads the dataset if needed\n",
    "print('Dataset length:', len(D))"
   ]
  },
  {
   "cell_type": "markdown",
   "metadata": {},
   "source": [
    "# Exploring Dataset Structure 🔍"
   ]
  },
  {
   "cell_type": "markdown",
   "metadata": {},
   "source": [
    "With the data downloaded, lets access an item in the dataset and plot it."
   ]
  },
  {
   "cell_type": "code",
   "execution_count": 2,
   "metadata": {},
   "outputs": [
    {
     "name": "stdout",
     "output_type": "stream",
     "text": [
      "Image.shape: torch.Size([10, 1, 64, 64])\n"
     ]
    }
   ],
   "source": [
    "item = D[0] # the first item\n",
    "\n",
    "img = item['image'] # this access image. Shape: (#frames, #channels, height, width)\n",
    "frame_labels = item['frame_labels']\n",
    "image_labels = item['image_labels']\n",
    "segmentations = item['segmentations']\n",
    "seglabels = item['seg_labels']\n",
    "\n",
    "print('Image.shape:', img.shape)"
   ]
  },
  {
   "cell_type": "markdown",
   "metadata": {},
   "source": [
    "you can get more advanced information from the 'metainfo' attribute:"
   ]
  },
  {
   "cell_type": "code",
   "execution_count": 3,
   "metadata": {},
   "outputs": [
    {
     "data": {
      "text/plain": [
       "dict_keys(['id', 'resource_uri', 'storage', 'location', 'upload_channel', 'filename', 'modality', 'mimetype', 'size', 'upload_mechanism', 'customer_id', 'status', 'created_at', 'created_by', 'published', 'deleted', 'source_filepath', 'metadata', 'projects', 'published_on', 'published_by', 'tags', 'publish_transforms', 'deleted_at', 'deleted_by', 'instance_uid', 'series_uid', 'study_uid', 'patient_id', 'segmentations', 'measurements', 'categories', 'user_info', 'labels', 'file'])"
      ]
     },
     "execution_count": 3,
     "metadata": {},
     "output_type": "execute_result"
    }
   ],
   "source": [
    "item['metainfo'].keys() # dictionary with metadata about the resource"
   ]
  },
  {
   "cell_type": "markdown",
   "metadata": {},
   "source": [
    "# Visualizing Images 🖼️"
   ]
  },
  {
   "cell_type": "markdown",
   "metadata": {},
   "source": [
    "Note that the image is a tensor of 4 dimensions where the first dimension is the number of frames. The shape is (#frames, #channels, height, width). Lets plot the second frame:"
   ]
  },
  {
   "cell_type": "code",
   "execution_count": 4,
   "metadata": {},
   "outputs": [
    {
     "data": {
      "text/plain": [
       "<matplotlib.image.AxesImage at 0x7f1e50a87410>"
      ]
     },
     "execution_count": 4,
     "metadata": {},
     "output_type": "execute_result"
    },
    {
     "data": {
      "image/png": "[encoded data removed]",
      "text/plain": [
       "<Figure size 640x480 with 1 Axes>"
      ]
     },
     "metadata": {},
     "output_type": "display_data"
    }
   ],
   "source": [
    "from matplotlib import pyplot as plt\n",
    "\n",
    "plt.imshow(img[1, 0], cmap='gray')  # img[1, 0] means the second frame, first channel"
   ]
  },
  {
   "cell_type": "markdown",
   "metadata": {},
   "source": [
    "Lets plot segmentations. But first, lets check the shape of the segmentations:"
   ]
  },
  {
   "cell_type": "code",
   "execution_count": 5,
   "metadata": {},
   "outputs": [
    {
     "data": {
      "text/plain": [
       "{}"
      ]
     },
     "execution_count": 5,
     "metadata": {},
     "output_type": "execute_result"
    }
   ],
   "source": [
    "segmentations = item['segmentations']\n",
    "# segmentations is a dict mapping an author to a Tensor of shape (#frames, #labels+background, height, width)\n",
    "{k: v.shape for k, v in segmentations.items()}"
   ]
  },
  {
   "cell_type": "markdown",
   "metadata": {},
   "source": [
    "Note that `segmentations` has one key for each author. Each author contains a tensor of shape (#frames, height, width). The segmentation is a binary mask where 1 indicates the presence of an object in the frame.\n",
    "\n",
    "For instance, `segmentations['lucas@mail.com'][0,2]` is the segmentation mask of the **second** class for the **first** frame of author 'lucas@mail.com'. \n",
    "\n",
    "<div class=\"alert alert-block alert-info\"> \n",
    "<b>🛈 NOTE:</b> Index 0 represents the background class. This means that when accessing segmentation masks, the first index is reserved for the background, and actual semantic classes start from index 1.\n",
    "</div>\n",
    "\n",
    "Let's plot one of the segmentations:"
   ]
  },
  {
   "cell_type": "markdown",
   "metadata": {},
   "source": [
    "# Visualizing Segmentations 🖼️"
   ]
  },
  {
   "cell_type": "code",
   "execution_count": 8,
   "metadata": {},
   "outputs": [
    {
     "data": {
      "text/plain": [
       "{}"
      ]
     },
     "execution_count": 8,
     "metadata": {},
     "output_type": "execute_result"
    }
   ],
   "source": [
    "segmentations"
   ]
  },
  {
   "cell_type": "code",
   "execution_count": 6,
   "metadata": {},
   "outputs": [
    {
     "ename": "KeyError",
     "evalue": "'lucas@mail.com'",
     "output_type": "error",
     "traceback": [
      "\u001b[0;31m---------------------------------------------------------------------------\u001b[0m",
      "\u001b[0;31mKeyError\u001b[0m                                  Traceback (most recent call last)",
      "Cell \u001b[0;32mIn[6], line 1\u001b[0m\n\u001b[0;32m----> 1\u001b[0m my_segs \u001b[38;5;241m=\u001b[39m \u001b[43msegmentations\u001b[49m\u001b[43m[\u001b[49m\u001b[38;5;124;43m'\u001b[39;49m\u001b[38;5;124;43mlucas@mail.com\u001b[39;49m\u001b[38;5;124;43m'\u001b[39;49m\u001b[43m]\u001b[49m\n\u001b[1;32m      2\u001b[0m seg_mask_i \u001b[38;5;241m=\u001b[39m my_segs[\u001b[38;5;241m1\u001b[39m, \u001b[38;5;241m1\u001b[39m]  \u001b[38;5;66;03m# second frame, first label ([1,0] is background)\u001b[39;00m\n\u001b[1;32m      3\u001b[0m label_name \u001b[38;5;241m=\u001b[39m D\u001b[38;5;241m.\u001b[39msegmentation_labels_set[\u001b[38;5;241m0\u001b[39m]  \u001b[38;5;66;03m# Note: segmentation_labels_set does not include background.\u001b[39;00m\n",
      "\u001b[0;31mKeyError\u001b[0m: 'lucas@mail.com'"
     ]
    }
   ],
   "source": [
    "my_segs = segmentations['lucas@mail.com']\n",
    "seg_mask_i = my_segs[1, 1]  # second frame, first label ([1,0] is background)\n",
    "label_name = D.segmentation_labels_set[0]  # Note: segmentation_labels_set does not include background.\n",
    "plt.imshow(seg_mask_i, cmap='gray')\n",
    "plt.title(label_name);"
   ]
  },
  {
   "cell_type": "markdown",
   "metadata": {},
   "source": [
    "Plot them together:\n"
   ]
  },
  {
   "cell_type": "code",
   "execution_count": 10,
   "metadata": {},
   "outputs": [
    {
     "data": {
      "image/png": "[encoded data removed]",
      "text/plain": [
       "<Figure size 640x480 with 1 Axes>"
      ]
     },
     "metadata": {},
     "output_type": "display_data"
    }
   ],
   "source": [
    "from datamint.utils.visualization import draw_masks, show\n",
    "\n",
    "show(draw_masks(image=img[1], # second frame\n",
    "                masks=my_segs[1, 1:]) # `1:` to skip background mask\n",
    "     )"
   ]
  },
  {
   "cell_type": "markdown",
   "metadata": {},
   "source": [
    "# Frame-by-Frame Loading 🎞️"
   ]
  },
  {
   "cell_type": "markdown",
   "metadata": {},
   "source": [
    "Instead of loading all the frames of the dicom, we can load one frame at a time. This is done by setting `return_frame_by_frame=True` in the `__init__` method of the `Dataset`:"
   ]
  },
  {
   "cell_type": "code",
   "execution_count": null,
   "metadata": {},
   "outputs": [
    {
     "name": "stdout",
     "output_type": "stream",
     "text": [
      "Dataset length: 10\n"
     ]
    }
   ],
   "source": [
    "from datamint import Dataset\n",
    "\n",
    "D = Dataset(\n",
    "    project_name=PROJECT_NAME,\n",
    "    return_as_semantic_segmentation=True,\n",
    "    return_frame_by_frame=True,\n",
    ") # This automatically downloads the dataset if needed\n",
    "print('Dataset length:', len(D))"
   ]
  },
  {
   "cell_type": "markdown",
   "metadata": {},
   "source": [
    "We now have a dataset length of 10 instead of 1, because all its frames were unpacked.  \n",
    "Also, the shape returned by `D[0]['image']` is (#channels, height, width) instead of (#frames, #channels, height, width):"
   ]
  },
  {
   "cell_type": "code",
   "execution_count": 10,
   "metadata": {},
   "outputs": [
    {
     "data": {
      "text/plain": [
       "torch.Size([1, 64, 64])"
      ]
     },
     "execution_count": 10,
     "metadata": {},
     "output_type": "execute_result"
    }
   ],
   "source": [
    "D[0]['image'].shape"
   ]
  }
 ],
 "metadata": {
  "kernelspec": {
   "display_name": ".venv",
   "language": "python",
   "name": "python3"
  },
  "language_info": {
   "codemirror_mode": {
    "name": "ipython",
    "version": 3
   },
   "file_extension": ".py",
   "mimetype": "text/x-python",
   "name": "python",
   "nbconvert_exporter": "python",
   "pygments_lexer": "ipython3",
   "version": "3.12.11"
  }
 },
 "nbformat": 4,
 "nbformat_minor": 2
}
