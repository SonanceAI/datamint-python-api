{
 "cells": [
  {
   "cell_type": "markdown",
   "metadata": {},
   "source": [
    "# Bone Segmentation with Datamint and Pytorch Lightning\n",
    "\n",
    "In this notebook, we will use [Datamint](https://sonanceai.github.io/datamint-python-api/) + [Pytorch Lightning](https://lightning.ai/docs/pytorch/stable/) to run a segmentation task on a 2D dataset of bone images.\n",
    "\n",
    "## Table of Contents\n",
    "\n",
    "1. [Introduction](#bone-segmentation-with-datamint-and-pytorch-lightning)\n",
    "2. [Creating Experiments and Loading Datasets](#creating-experiments-and-loading-datasets)\n",
    "3. [Quick Visualization](#quick-visualization)\n",
    "4. [Easy Generation of Dataloaders](#easy-generation-of-dataloaders)\n",
    "5. [Defining Our Model](#defining-our-model)\n",
    "6. [Training](#training)\n",
    "7. [Predict](#predict)\n"
   ]
  },
  {
   "cell_type": "markdown",
   "metadata": {},
   "source": [
    "## Creating experiments and loading datasets\n",
    "\n",
    "Datamint organizes ML workflows into experiments within projects. Below we create an experiment in the \"BoneSeg\" project:"
   ]
  },
  {
   "cell_type": "code",
   "execution_count": 1,
   "metadata": {},
   "outputs": [],
   "source": [
    "from datamintapi import Experiment\n",
    "\n",
    "exp = Experiment(\n",
    "    name=\"Experiment 1\",\n",
    "    project_name=\"BoneSeg\",\n",
    "    allow_existing=True,  # allows connecting to an existing experiment with the same name\n",
    "    auto_log=False,  # disables automatic logging.\n",
    "    # dry_run=True, # uncomment to test without saving to the server\n",
    ")"
   ]
  },
  {
   "cell_type": "markdown",
   "metadata": {},
   "source": [
    "The `get_dataset()` method provides a standardized way to access data with immediate preprocessing options:\n",
    "\n",
    "| Parameter | Purpose |\n",
    "|-----------|----------|\n",
    "| `return_as_semantic_segmentation` | Converts instance segmentation to semantic segmentation |\n",
    "| `semantic_seg_merge_strategy` | How to combine multiple masks from different annotators |\n",
    "| `return_frame_by_frame` | Process data frame-by-frame or video-by-video | \n",
    "\n",
    "> **TIP:**\n",
    "> Check more handy transformations at [DatamintDataset documentation](https://sonanceai.github.io/datamint-python-api/datamint.dataset.html#datamintapi.dataset.dataset.DatamintDataset)"
   ]
  },
  {
   "cell_type": "code",
   "execution_count": 2,
   "metadata": {},
   "outputs": [
    {
     "name": "stdout",
     "output_type": "stream",
     "text": [
      "3 1\n"
     ]
    }
   ],
   "source": [
    "from torchvision.transforms import v2\n",
    "from torchvision.models.segmentation import DeepLabV3_ResNet50_Weights\n",
    "\n",
    "IMAGE_SIZE = (520, 520)\n",
    "\n",
    "# Define image transformations - standardization is important for pretrained models\n",
    "image_transform = v2.Compose([v2.Resize(IMAGE_SIZE),\n",
    "                              v2.Grayscale(num_output_channels=3),\n",
    "                              v2.ColorJitter(brightness=0.3, contrast=0.3, saturation=0.0, hue=0.0),\n",
    "                              DeepLabV3_ResNet50_Weights.DEFAULT.transforms(),\n",
    "                              ])\n",
    "\n",
    "# It is important to use NEAREST interpolation for masks.\n",
    "mask_transform = v2.Resize(IMAGE_SIZE, antialias=False, interpolation=v2.InterpolationMode.NEAREST)\n",
    "\n",
    "# Handy dataset parameters\n",
    "dataset_params = dict(\n",
    "    return_as_semantic_segmentation=True,  # Transforms instance segmentation into semantic segmentation.\n",
    "    semantic_seg_merge_strategy=\"union\",  # Merges all author's masks into a single one.\n",
    "    return_frame_by_frame=True,  # Iterates over each frame of the video, instead of the video as a whole.\n",
    "    image_transform=image_transform,  # Transforms the image.\n",
    "    mask_transform=mask_transform,  # Transforms the mask.\n",
    "    discard_without_annotations=True,  # Discards images without annotations.\n",
    ")\n",
    "\n",
    "# Get the train dataset associated with the experiment.\n",
    "Dtrain = exp.get_dataset(\n",
    "    **dataset_params,\n",
    "    split='train'\n",
    ")\n",
    "\n",
    "# Get the test dataset associated with the experiment.\n",
    "Dtest = exp.get_dataset(\n",
    "    **dataset_params,\n",
    "    split='test'\n",
    ")\n",
    "print(len(Dtrain), len(Dtest))"
   ]
  },
  {
   "cell_type": "markdown",
   "metadata": {},
   "source": [
    "## Quick visualization\n",
    "\n",
    "Let's visualize a sample from our dataset to confirm image and mask alignment. The `draw_masks()` function overlays segmentation masks on top of the original image:\n",
    " "
   ]
  },
  {
   "cell_type": "code",
   "execution_count": null,
   "metadata": {},
   "outputs": [],
   "source": [
    "from datamintapi.utils.visualization import draw_masks, show\n",
    "\n",
    "# Fetch a sample item from the training dataset\n",
    "item = Dtrain[3]\n",
    "\n",
    "segs = item['segmentations']  # Tensor of shape (L, H, W), where L is the number of labels plus background.\n",
    "# segs[0] is the background mask\n",
    "\n",
    "image = item['image']  # Tensor of shape (C, H, W)\n",
    "segs_names = Dtrain.segmentation_labels_set  # (list of str)\n",
    "\n",
    "# Display the image with bone segmentation masks overlaid\n",
    "image_with_mask = draw_masks(image,\n",
    "                             masks=segs[1:] == 1)\n",
    "show(image_with_mask)"
   ]
  },
  {
   "cell_type": "markdown",
   "metadata": {},
   "source": [
    "## Easy generation of dataloaders\n",
    "\n",
    "DatamintDataset provides a convenient `get_dataloader()` method that wraps PyTorch's DataLoader with appropriate settings, so you don't need to provide a `collate_fn`, for instance."
   ]
  },
  {
   "cell_type": "code",
   "execution_count": null,
   "metadata": {},
   "outputs": [],
   "source": [
    "train_dataloader = Dtrain.get_dataloader(batch_size=8, num_workers=4, shuffle=True)\n",
    "test_dataloader = Dtest.get_dataloader(batch_size=2, num_workers=4, shuffle=False)\n",
    "# Check the dataloader output shapes\n",
    "sample_batch = next(iter(train_dataloader))\n",
    "print(sample_batch['image'].shape)  # (8, 3, 520, 520)\n",
    "print(sample_batch['segmentations'].shape) # (8, 5, 520, 520)"
   ]
  },
  {
   "cell_type": "markdown",
   "metadata": {},
   "source": [
    "## Defining our model\n",
    "\n",
    "We'll create a PyTorch Lightning model with:\n",
    "\n",
    "- **Architecture**: DeepLabV3 with ResNet50 backbone for semantic segmentation\n",
    "- **Metrics**: A combination of segmentation metrics (IoU) and classification metrics adapted for segmentation tasks\n",
    "- **Logging**: Integration with both Lightning and Datamint's experiment tracking\n",
    "\n",
    "> **Key concept**: The `SegmentationToClassificationWrapper` allows us to use classification metrics like F1 and Precision with segmentation data"
   ]
  },
  {
   "cell_type": "code",
   "execution_count": 5,
   "metadata": {},
   "outputs": [],
   "source": [
    "import lightning as L\n",
    "import torchvision\n",
    "from torch import nn\n",
    "from torchvision.models.segmentation import deeplabv3_resnet50\n",
    "from torchmetrics.segmentation import MeanIoU\n",
    "from torchmetrics.classification import Recall, Precision, F1Score, Specificity, Accuracy\n",
    "from datamintapi.utils.torchmetrics import SegmentationToClassificationWrapper\n",
    "from torch import Tensor\n",
    "import torch\n",
    "\n",
    "\n",
    "class MyModel(L.LightningModule):\n",
    "    \"\"\"DeepLabV3 semantic segmentation model with ResNet50 backbone.\"\"\"\n",
    "    \n",
    "    def __init__(self,\n",
    "                 num_classes: int,\n",
    "                 experiment: Experiment = None):\n",
    "        \"\"\"\n",
    "        Initialize model with metrics for training, validation and testing.\n",
    "        \n",
    "        Args:\n",
    "            num_classes: Number of segmentation classes (excluding background)\n",
    "            experiment: Optional experiment object for logging to Datamint\n",
    "        \"\"\"\n",
    "        super().__init__()\n",
    "        # self.model = MyModel.initialize_model_mobilenet(num_classes+1,\n",
    "        #                                                 weights=DeepLabV3_MobileNet_V3_Large_Weights.DEFAULT)\n",
    "        self.experiment = experiment\n",
    "        self.model = MyModel.initialize_model(num_classes+1)\n",
    "        self.criterion = nn.CrossEntropyLoss()\n",
    "        self.num_classes = num_classes\n",
    "\n",
    "        # train metrics #\n",
    "        self.train_cls_metrics = self.create_cls_metrics()\n",
    "        self.train_seg_metrics = self.create_seg_metrics()\n",
    "\n",
    "        # val metrics #\n",
    "        self.val_cls_metrics = self.create_cls_metrics()\n",
    "        self.val_seg_metrics = self.create_seg_metrics()\n",
    "\n",
    "        # test metrics #\n",
    "        self.test_cls_metrics = self.create_cls_metrics()\n",
    "        self.test_seg_metrics = self.create_seg_metrics()\n",
    "\n",
    "    def create_seg_metrics(self) -> nn.ModuleDict:\n",
    "        \"\"\"\n",
    "        Create segmentation metrics (IoU).\n",
    "        \n",
    "        Returns:\n",
    "            ModuleDict containing segmentation metrics\n",
    "        \"\"\"\n",
    "        metrics = nn.ModuleDict()\n",
    "        metrics[\"iou\"] = MeanIoU(num_classes=self.num_classes+1, include_background=True)\n",
    "        return metrics\n",
    "\n",
    "    def create_cls_metrics(self) -> nn.ModuleDict:\n",
    "        \"\"\"\n",
    "        Create classification metrics wrapped for segmentation evaluation.\n",
    "        \n",
    "        Returns:\n",
    "            ModuleDict with classification metrics adapted for segmentation\n",
    "        \"\"\"\n",
    "        metrics = nn.ModuleDict()\n",
    "        for clsmetric_cls in [Recall, Precision, F1Score, Specificity, Accuracy]:\n",
    "            clsmetric_obj = clsmetric_cls(task=\"multilabel\", num_labels=self.num_classes+1, average=\"macro\")\n",
    "            metric = SegmentationToClassificationWrapper(clsmetric_obj, iou_threshold=0.5)\n",
    "            metrics[clsmetric_cls.__name__] = metric\n",
    "\n",
    "        return metrics\n",
    "\n",
    "    @staticmethod\n",
    "    def initialize_model(num_classes: int, weights='DEFAULT'):\n",
    "        \"\"\"\n",
    "        Initialize DeepLabV3 model with ResNet50 backbone.\n",
    "        \n",
    "        Args:\n",
    "            num_classes: Number of output classes (including background)\n",
    "            weights: Pretrained weights specification\n",
    "        \n",
    "        Returns:\n",
    "            Configured DeepLabV3 model\n",
    "        \"\"\"\n",
    "        model = deeplabv3_resnet50(weights=weights)\n",
    "        model.classifier = torchvision.models.segmentation.deeplabv3.DeepLabHead(2048, num_classes)\n",
    "        return model\n",
    "\n",
    "    def forward(self, x) -> Tensor:\n",
    "        \"\"\"Run forward pass through the model.\"\"\"\n",
    "        return self.model(x)['out']\n",
    "\n",
    "    def predict_step(self, batch: dict, batch_idx, dataloader_idx=0):\n",
    "        \"\"\"Generate binary predictions from model output.\"\"\"\n",
    "        x = batch[\"image\"]\n",
    "        y_hat = self(x)\n",
    "        return y_hat > 0\n",
    "\n",
    "    def _get_metrics(self, phase: str) -> tuple:\n",
    "        \"\"\"\n",
    "        Get appropriate metrics for the current phase.\n",
    "        \n",
    "        Args:\n",
    "            phase: One of 'train', 'val', or 'test'\n",
    "            \n",
    "        Returns:\n",
    "            Tuple of (segmentation_metrics, classification_metrics)\n",
    "        \"\"\"\n",
    "        if phase == 'train':\n",
    "            seg_metrics = self.train_seg_metrics\n",
    "            cls_metrics = self.train_cls_metrics\n",
    "        elif phase == 'val':\n",
    "            seg_metrics = self.val_seg_metrics\n",
    "            cls_metrics = self.val_cls_metrics\n",
    "        elif phase == 'test':\n",
    "            seg_metrics = self.test_seg_metrics\n",
    "            cls_metrics = self.test_cls_metrics\n",
    "        else:\n",
    "            raise ValueError(f\"Invalid phase: {phase}\")\n",
    "        return seg_metrics, cls_metrics\n",
    "\n",
    "    def _run_step(self, batch: dict, batch_idx, phase: str) -> Tensor:\n",
    "        \"\"\"\n",
    "        Run a single training/validation/test step.\n",
    "        \n",
    "        Args:\n",
    "            batch: Input data containing 'image' and 'segmentations'\n",
    "            batch_idx: Index of current batch\n",
    "            phase: Current phase ('train', 'val', 'test', or None)\n",
    "            \n",
    "        Returns:\n",
    "            Loss tensor\n",
    "        \"\"\"\n",
    "        x = batch[\"image\"]\n",
    "        y = batch[\"segmentations\"]\n",
    "        y_hat = self(x)\n",
    "        loss = self.criterion(y_hat, y)\n",
    "        y_hat = y_hat > 0\n",
    "        if phase is not None:\n",
    "            y = y.to(torch.bool)\n",
    "            seg_metrics, cls_metrics = self._get_metrics(phase)\n",
    "\n",
    "            for metric in seg_metrics.values():\n",
    "                metric.update(y_hat, y)\n",
    "            for metric in cls_metrics.values():\n",
    "                metric.update(y_hat, y)\n",
    "\n",
    "            self.log(f\"{phase}/loss\", loss, prog_bar=True, on_epoch=True, on_step=False, batch_size=len(x))\n",
    "\n",
    "        return loss\n",
    "\n",
    "    def training_step(self,\n",
    "                      batch: dict,\n",
    "                      batch_idx):\n",
    "        \"\"\"Execute training step with loss calculation.\"\"\"\n",
    "        loss = self._run_step(batch, batch_idx, phase='train')\n",
    "        return loss\n",
    "\n",
    "    def log(self, name, value, *args, log_to_datamint=False, **kwargs):\n",
    "        \"\"\"\n",
    "        Log metrics to both Lightning and optionally Datamint.\n",
    "        \n",
    "        Args:\n",
    "            name: Metric name\n",
    "            value: Metric value\n",
    "            log_to_datamint: Whether to also log to Datamint experiment\n",
    "        \"\"\"\n",
    "        super().log(name, value, *args, **kwargs)\n",
    "        if self.experiment is not None and log_to_datamint:\n",
    "            try:\n",
    "                if isinstance(value, torch.Tensor):\n",
    "                    value = value.item()\n",
    "                self.experiment.log_metric(name, value)\n",
    "            except Exception as e:\n",
    "                print(f\"ERROR: Failed to log metric {name}: {e}\")\n",
    "\n",
    "    def validation_step(self, batch: dict, batch_idx):\n",
    "        \"\"\"Execute validation step and update metrics.\"\"\"\n",
    "        self._run_step(batch, batch_idx, phase='val')\n",
    "\n",
    "    def test_step(self, batch: dict, batch_idx):\n",
    "        \"\"\"Execute test step and update metrics.\"\"\"\n",
    "        self._run_step(batch, batch_idx, phase='test')\n",
    "\n",
    "    def configure_optimizers(self):\n",
    "        \"\"\"Configure Adam optimizer with weight decay.\"\"\"\n",
    "        return torch.optim.AdamW(self.parameters(), lr=2e-4, weight_decay=1e-3)\n",
    "\n",
    "    def _compute_metrics_end(self, phase: str):\n",
    "        \"\"\"\n",
    "        Compute and log all metrics at the end of an epoch.\n",
    "        \n",
    "        Args:\n",
    "            phase: Current phase ('train', 'val', or 'test')\n",
    "        \"\"\"\n",
    "        seg_metrics, cls_metrics = self._get_metrics(phase)\n",
    "        for name, metric in seg_metrics.items():\n",
    "            self.log(f\"{phase}/{name}\", metric.compute(), on_epoch=True, on_step=False, log_to_datamint=True)\n",
    "            metric.reset()\n",
    "        for name, metric in cls_metrics.items():\n",
    "            self.log(f\"{phase}/{name}\", metric.compute(), on_epoch=True, on_step=False, log_to_datamint=True)\n",
    "            metric.reset()\n",
    "\n",
    "    def on_train_epoch_end(self):\n",
    "        \"\"\"Compute and log training metrics at epoch end.\"\"\"\n",
    "        self._compute_metrics_end('train')\n",
    "\n",
    "    def on_validation_epoch_end(self):\n",
    "        \"\"\"Compute and log validation metrics at epoch end.\"\"\"\n",
    "        self._compute_metrics_end('val')\n",
    "\n",
    "    def on_test_epoch_end(self):\n",
    "        \"\"\"Compute and log test metrics at epoch end.\"\"\"\n",
    "        self._compute_metrics_end('test')\n"
   ]
  },
  {
   "cell_type": "code",
   "execution_count": 6,
   "metadata": {},
   "outputs": [],
   "source": [
    "# Initialize our model with the number of classes detected from the dataset\n",
    "model = MyModel(num_classes=len(Dtrain.segmentation_labels_set),\n",
    "                experiment=exp)"
   ]
  },
  {
   "cell_type": "markdown",
   "metadata": {},
   "source": [
    "## Training\n",
    "\n",
    "We'll set up the training process with:\n",
    "- Model checkpointing to save the best performing model\n",
    "- GPU acceleration for faster training\n",
    "- Validation after each epoch to monitor performance"
   ]
  },
  {
   "cell_type": "code",
   "execution_count": null,
   "metadata": {},
   "outputs": [],
   "source": [
    "from lightning.pytorch.callbacks import ModelCheckpoint\n",
    "\n",
    "# Define checkpoint callback to save best models based on validation loss\n",
    "checkpoint_callback = ModelCheckpoint(\n",
    "    monitor='val/loss',          # Monitor validation loss\n",
    "    filename='boneseg-{epoch:02d}-{val/loss:.4f}',\n",
    "    save_top_k=1,                # Save only the best model\n",
    "    mode='min',                  # Lower val loss is better\n",
    "    save_last=False,              # Also save the last model\n",
    "    verbose=False,\n",
    "    auto_insert_metric_name=False,\n",
    ")\n",
    "\n",
    "save_last_epoch = ModelCheckpoint()\n",
    "\n",
    "# Set up Lightning trainer with appropriate hardware acceleration\n",
    "trainer = L.Trainer(\n",
    "    accelerator='gpu',\n",
    "    max_epochs=60,\n",
    "    callbacks=[checkpoint_callback, save_last_epoch],\n",
    ")\n",
    "\n",
    "# Start model training\n",
    "trainer.fit(model,\n",
    "            train_dataloaders=train_dataloader,\n",
    "            # Ideally, we should use be a separated validation set, but for simplicity we use the test set:\n",
    "            val_dataloaders=test_dataloader\n",
    "            )"
   ]
  },
  {
   "cell_type": "code",
   "execution_count": null,
   "metadata": {},
   "outputs": [
    {
     "name": "stderr",
     "output_type": "stream",
     "text": [
      "LOCAL_RANK: 0 - CUDA_VISIBLE_DEVICES: [0]\n"
     ]
    },
    {
     "data": {
      "application/vnd.jupyter.widget-view+json": {
       "model_id": "8e3860822a324bea92a97ba9aeae7fcc",
       "version_major": 2,
       "version_minor": 0
      },
      "text/plain": [
       "Testing: |          | 0/? [00:00<?, ?it/s]"
      ]
     },
     "metadata": {},
     "output_type": "display_data"
    },
    {
     "data": {
      "text/html": [
       "<pre style=\"white-space:pre;overflow-x:auto;line-height:normal;font-family:Menlo,'DejaVu Sans Mono',consolas,'Courier New',monospace\">┏━━━━━━━━━━━━━━━━━━━━━━━━━━━┳━━━━━━━━━━━━━━━━━━━━━━━━━━━┓\n",
       "┃<span style=\"font-weight: bold\">        Test metric        </span>┃<span style=\"font-weight: bold\">       DataLoader 0        </span>┃\n",
       "┡━━━━━━━━━━━━━━━━━━━━━━━━━━━╇━━━━━━━━━━━━━━━━━━━━━━━━━━━┩\n",
       "│<span style=\"color: #008080; text-decoration-color: #008080\">       test/Accuracy       </span>│<span style=\"color: #800080; text-decoration-color: #800080\">    0.7333333492279053     </span>│\n",
       "│<span style=\"color: #008080; text-decoration-color: #008080\">       test/F1Score        </span>│<span style=\"color: #800080; text-decoration-color: #800080\">    0.6599999666213989     </span>│\n",
       "│<span style=\"color: #008080; text-decoration-color: #008080\">      test/Precision       </span>│<span style=\"color: #800080; text-decoration-color: #800080\">     0.800000011920929     </span>│\n",
       "│<span style=\"color: #008080; text-decoration-color: #008080\">        test/Recall        </span>│<span style=\"color: #800080; text-decoration-color: #800080\">    0.6000000238418579     </span>│\n",
       "│<span style=\"color: #008080; text-decoration-color: #008080\">     test/Specificity      </span>│<span style=\"color: #800080; text-decoration-color: #800080\">    0.4000000059604645     </span>│\n",
       "│<span style=\"color: #008080; text-decoration-color: #008080\">         test/iou          </span>│<span style=\"color: #800080; text-decoration-color: #800080\">    0.48983272910118103    </span>│\n",
       "│<span style=\"color: #008080; text-decoration-color: #008080\">         test/loss         </span>│<span style=\"color: #800080; text-decoration-color: #800080\">    0.19067145884037018    </span>│\n",
       "└───────────────────────────┴───────────────────────────┘\n",
       "</pre>\n"
      ],
      "text/plain": [
       "┏━━━━━━━━━━━━━━━━━━━━━━━━━━━┳━━━━━━━━━━━━━━━━━━━━━━━━━━━┓\n",
       "┃\u001b[1m \u001b[0m\u001b[1m       Test metric       \u001b[0m\u001b[1m \u001b[0m┃\u001b[1m \u001b[0m\u001b[1m      DataLoader 0       \u001b[0m\u001b[1m \u001b[0m┃\n",
       "┡━━━━━━━━━━━━━━━━━━━━━━━━━━━╇━━━━━━━━━━━━━━━━━━━━━━━━━━━┩\n",
       "│\u001b[36m \u001b[0m\u001b[36m      test/Accuracy      \u001b[0m\u001b[36m \u001b[0m│\u001b[35m \u001b[0m\u001b[35m   0.7333333492279053    \u001b[0m\u001b[35m \u001b[0m│\n",
       "│\u001b[36m \u001b[0m\u001b[36m      test/F1Score       \u001b[0m\u001b[36m \u001b[0m│\u001b[35m \u001b[0m\u001b[35m   0.6599999666213989    \u001b[0m\u001b[35m \u001b[0m│\n",
       "│\u001b[36m \u001b[0m\u001b[36m     test/Precision      \u001b[0m\u001b[36m \u001b[0m│\u001b[35m \u001b[0m\u001b[35m    0.800000011920929    \u001b[0m\u001b[35m \u001b[0m│\n",
       "│\u001b[36m \u001b[0m\u001b[36m       test/Recall       \u001b[0m\u001b[36m \u001b[0m│\u001b[35m \u001b[0m\u001b[35m   0.6000000238418579    \u001b[0m\u001b[35m \u001b[0m│\n",
       "│\u001b[36m \u001b[0m\u001b[36m    test/Specificity     \u001b[0m\u001b[36m \u001b[0m│\u001b[35m \u001b[0m\u001b[35m   0.4000000059604645    \u001b[0m\u001b[35m \u001b[0m│\n",
       "│\u001b[36m \u001b[0m\u001b[36m        test/iou         \u001b[0m\u001b[36m \u001b[0m│\u001b[35m \u001b[0m\u001b[35m   0.48983272910118103   \u001b[0m\u001b[35m \u001b[0m│\n",
       "│\u001b[36m \u001b[0m\u001b[36m        test/loss        \u001b[0m\u001b[36m \u001b[0m│\u001b[35m \u001b[0m\u001b[35m   0.19067145884037018   \u001b[0m\u001b[35m \u001b[0m│\n",
       "└───────────────────────────┴───────────────────────────┘\n"
      ]
     },
     "metadata": {},
     "output_type": "display_data"
    },
    {
     "data": {
      "text/plain": [
       "[{'test/loss': 0.19067145884037018,\n",
       "  'test/iou': 0.48983272910118103,\n",
       "  'test/Recall': 0.6000000238418579,\n",
       "  'test/Precision': 0.800000011920929,\n",
       "  'test/F1Score': 0.6599999666213989,\n",
       "  'test/Specificity': 0.4000000059604645,\n",
       "  'test/Accuracy': 0.7333333492279053}]"
      ]
     },
     "execution_count": 11,
     "metadata": {},
     "output_type": "execute_result"
    }
   ],
   "source": [
    "# Run final evaluation on test dataset to get performance metrics\n",
    "trainer.test(model, dataloaders=test_dataloader) "
   ]
  },
  {
   "cell_type": "code",
   "execution_count": null,
   "metadata": {},
   "outputs": [
    {
     "data": {
      "text/plain": [
       "{'test/Sensitivity': 0.6000000238418579,\n",
       " 'test/Positive Predictive Value': 0.800000011920929,\n",
       " 'test/F1Score': 0.6599999666213989,\n",
       " 'test/Accuracy': 0.7333333492279053}"
      ]
     },
     "execution_count": 12,
     "metadata": {},
     "output_type": "execute_result"
    }
   ],
   "source": [
    "# Display summary of all logged metrics from the experiment\n",
    "exp.summary_log['metrics']"
   ]
  },
  {
   "cell_type": "code",
   "execution_count": null,
   "metadata": {},
   "outputs": [],
   "source": [
    "# Finalize the experiment to complete logging\n",
    "exp.finish()"
   ]
  },
  {
   "attachments": {
    "image.png": {
     "image/png": "[encoded data removed]"
    }
   },
   "cell_type": "markdown",
   "metadata": {},
   "source": [
    "After finishing, we can check the experiment in the Datamint web app. The dashboard provides visual tracking of metrics.\n",
    "\n",
    "![image.png](attachment:image.png)"
   ]
  },
  {
   "cell_type": "markdown",
   "metadata": {},
   "source": [
    "## Predict\n",
    "\n",
    "Now that we have a trained model, let's generate predictions on the test dataset and visualize the results."
   ]
  },
  {
   "cell_type": "code",
   "execution_count": null,
   "metadata": {},
   "outputs": [],
   "source": [
    "# Generate predictions on the test dataset\n",
    "predictions_batches: list[Tensor] = trainer.predict(model, test_dataloader)\n",
    "# list of tensors. each tensor has shape (batch_size, #classes, H, W)"
   ]
  },
  {
   "cell_type": "code",
   "execution_count": null,
   "metadata": {},
   "outputs": [],
   "source": [
    "# Visualize model predictions on test images\n",
    "\n",
    "k = 0\n",
    "for prediction_batch in predictions_batches:\n",
    "    # prediction_batch is a tensor of shape (batch_size, #classes, H, W)\n",
    "    for prediction in prediction_batch:\n",
    "        item = Dtest[k]\n",
    "        image = item['image']\n",
    "\n",
    "        segs = item['segmentations']\n",
    "\n",
    "        # Show predicted segmentation masks overlaid on the image\n",
    "        prediction_mask = prediction[1:] == 1\n",
    "        image_with_prediction = draw_masks(image,\n",
    "                                           masks=prediction_mask)\n",
    "\n",
    "        show(image_with_prediction)\n",
    "        k += 1"
   ]
  }
 ],
 "metadata": {
  "kernelspec": {
   "display_name": ".venv",
   "language": "python",
   "name": "python3"
  },
  "language_info": {
   "codemirror_mode": {
    "name": "ipython",
    "version": 3
   },
   "file_extension": ".py",
   "mimetype": "text/x-python",
   "name": "python",
   "nbconvert_exporter": "python",
   "pygments_lexer": "ipython3",
   "version": "3.12.9"
  }
 },
 "nbformat": 4,
 "nbformat_minor": 2
}
