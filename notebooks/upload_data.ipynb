{
 "cells": [
  {
   "cell_type": "code",
   "execution_count": 2,
   "metadata": {},
   "outputs": [],
   "source": [
    "from datamintapi import APIHandler\n",
    "\n",
    "# Creates a connection with the server\n",
    "# Don't forget to run `datamint-config` in a terminal, if you haven't already\n",
    "api_handler = APIHandler()"
   ]
  },
  {
   "cell_type": "markdown",
   "metadata": {},
   "source": [
    "# Single resource upload"
   ]
  },
  {
   "cell_type": "code",
   "execution_count": 3,
   "metadata": {},
   "outputs": [],
   "source": [
    "# This is the dicom file that will be uploaded to the server\n",
    "dicom_file = '../data/Case14.dcm'\n",
    "new_resource_id = api_handler.upload_resources(dicom_file,\n",
    "                                               channel='lhsmello_tmp_channel',  # arbitrary channel name\n",
    "                                               labels=['OAI_CARE'],  # arbitrary labels for easy search later\n",
    "                                               publish=False  # set to True to bypass inbox\n",
    "                                               )"
   ]
  },
  {
   "cell_type": "code",
   "execution_count": 6,
   "metadata": {},
   "outputs": [
    {
     "data": {
      "text/plain": [
       "dict_keys(['id', 'resource_uri', 'storage', 'location', 'upload_channel', 'filename', 'modality', 'mimetype', 'size', 'upload_mechanism', 'customer_id', 'status', 'created_at', 'created_by', 'published', 'published_on', 'published_by', 'publish_transforms', 'deleted', 'deleted_at', 'deleted_by', 'metadata', 'source_filepath', 'resource_frame_labels', 'labels', 'segmentations', 'measurements', 'categories', 'user_info', 'projects'])"
      ]
     },
     "execution_count": 6,
     "metadata": {},
     "output_type": "execute_result"
    }
   ],
   "source": [
    "# Get all the resources with the label OAI_CARE\n",
    "\n",
    "all_resources = list(api_handler.get_resources(status='inbox',\n",
    "                                               labels=['OAI_CARE']))\n",
    "all_resources[0].keys()"
   ]
  },
  {
   "cell_type": "markdown",
   "metadata": {},
   "source": [
    "# Upload segmentation"
   ]
  },
  {
   "cell_type": "code",
   "execution_count": 9,
   "metadata": {},
   "outputs": [],
   "source": [
    "seg_file = '../data/Case14_Bones.nii.gz'  # We are assuming this file has the same dimensions as the dicom file\n",
    "resource_id = new_resource_id  # the resource just created by the upload\n",
    "\n",
    "# This is the mapping of pixel values to class names\n",
    "class_names = {\n",
    "    1: \"Femur\",\n",
    "    2: \"Tibia\"\n",
    "}\n",
    "\n",
    "api_handler.upload_segmentations(resource_id=resource_id,\n",
    "                                 file_path=seg_file,\n",
    "                                 name=class_names\n",
    "                                 )"
   ]
  },
  {
   "cell_type": "markdown",
   "metadata": {},
   "source": [
    "# Upload resource with segmentations in one request"
   ]
  },
  {
   "cell_type": "code",
   "execution_count": null,
   "metadata": {},
   "outputs": [],
   "source": [
    "dicom_file = '../data/Case14.dcm'\n",
    "# These are the segmentation files that will be uploaded to the server\n",
    "segfiles = {'files': ['../data/Case14_Bones.nii.gz'],\n",
    "            # mapping pixel values to class names. Here, we specify one for each segmentation file.\n",
    "            'names':  class_names\n",
    "            }\n",
    "\n",
    "new_resource_id = api_handler.upload_resources(dicom_file,\n",
    "                                               segmentation_files=segfiles,\n",
    "                                               channel='mychannel',  # arbitrary channel name\n",
    "                                               labels=['OAI_CARE'],\n",
    "                                               publish=False\n",
    "                                               )"
   ]
  }
 ],
 "metadata": {
  "kernelspec": {
   "display_name": ".venv",
   "language": "python",
   "name": "python3"
  },
  "language_info": {
   "codemirror_mode": {
    "name": "ipython",
    "version": 3
   },
   "file_extension": ".py",
   "mimetype": "text/x-python",
   "name": "python",
   "nbconvert_exporter": "python",
   "pygments_lexer": "ipython3",
   "version": "3.12.6"
  }
 },
 "nbformat": 4,
 "nbformat_minor": 2
}
