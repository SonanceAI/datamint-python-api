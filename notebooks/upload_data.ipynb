{
 "cells": [
  {
   "cell_type": "code",
   "execution_count": 1,
   "metadata": {},
   "outputs": [],
   "source": [
    "from datamintapi import APIHandler\n",
    "\n",
    "# Creates a connection with the server\n",
    "# Don't forget to run `datamint-config` in a terminal, if you haven't already\n",
    "api_handler = APIHandler()"
   ]
  },
  {
   "cell_type": "markdown",
   "metadata": {},
   "source": [
    "# Single resource upload"
   ]
  },
  {
   "cell_type": "code",
   "execution_count": 2,
   "metadata": {},
   "outputs": [
    {
     "data": {
      "text/plain": [
       "{1: 'Bones_Femur',\n",
       " 2: 'Bones_FemurCartilage',\n",
       " 3: 'Bones_Tibia',\n",
       " 4: 'Bones_TibiaCartilage',\n",
       " 5: 'Bones_FemHead',\n",
       " 6: 'Bones_TibHead',\n",
       " 7: 'Bones_PatHead',\n",
       " 8: 'Bones_BML',\n",
       " 9: 'Bones_BMLFem',\n",
       " 10: 'Bones_BMLTib',\n",
       " 11: 'Bones_BMLPat',\n",
       " 12: 'Bones_Effusion'}"
      ]
     },
     "execution_count": 2,
     "metadata": {},
     "output_type": "execute_result"
    }
   ],
   "source": [
    "# This is the dicom file that will be uploaded to the server\n",
    "dicom_file = '../data/OAI_CARE/dicoms/Case11_9415074/A_20050726/SAG_IW_TSE_RIGHT/Case11_9415074_A_20050726_SAG_IW_TSE_RIGHT.dcm'\n",
    "\n",
    "# This is the mapping of pixel values to class names\n",
    "class_names = {\n",
    "    1: \"Femur\",\n",
    "    2: \"FemurCartilage\",\n",
    "    3: \"Tibia\",\n",
    "    4: \"TibiaCartilage\",\n",
    "    5: \"FemHead\",\n",
    "    6: \"TibHead\",\n",
    "    7: \"PatHead\",\n",
    "    8: \"BML\",\n",
    "    9: \"BMLFem\",\n",
    "    10: \"BMLTib\",\n",
    "    11: \"BMLPat\",\n",
    "    12: \"Effusion\"\n",
    "}\n",
    "\n",
    "segmentation_names = [\"Bones\", \"BoneHead\", \"BML\"]\n",
    "\n",
    "# for each segmentation file, we need to specify the class names, if we want them to have different class names\n",
    "all_class_names = []\n",
    "for seg_name in segmentation_names:\n",
    "    class_names_seg = {key: f'{seg_name}_{class_name}' for key, class_name in class_names.items()}\n",
    "    all_class_names.append(class_names_seg)\n",
    "all_class_names[0]"
   ]
  },
  {
   "cell_type": "code",
   "execution_count": 3,
   "metadata": {},
   "outputs": [],
   "source": [
    "\n",
    "# These are the segmentation files that will be uploaded to the server\n",
    "segfiles = {'files': ['../data/OAI_CARE/segmentations/Case11_9415074/A_20050726/SAG_IW_TSE_RIGHT/Case11_9415074__TSE_Bones_2.nii.gz',\n",
    "                      '../data/OAI_CARE/segmentations/Case11_9415074/A_20050726/SAG_IW_TSE_RIGHT/Case11_9415074__TSE_BoneHead_2.nii.gz',\n",
    "                      '../data/OAI_CARE/segmentations/Case11_9415074/A_20050726/SAG_IW_TSE_RIGHT/Case11_9415074__TSE_BML_2.nii.gz'\n",
    "                      ],\n",
    "            'names':  all_class_names  # mapping pixel values to class names. Here, we specify one for each segmentation file.\n",
    "            }\n",
    "\n",
    "\n",
    "new_resource_id = api_handler.upload_resources(dicom_file,\n",
    "                                               segmentation_files=segfiles,\n",
    "                                               channel='mychannel', # arbitrary channel name\n",
    "                                               labels=['OAI_CARE'],\n",
    "                                                publish=True\n",
    "                                               )"
   ]
  },
  {
   "cell_type": "code",
   "execution_count": 4,
   "metadata": {},
   "outputs": [
    {
     "data": {
      "text/plain": [
       "55"
      ]
     },
     "execution_count": 4,
     "metadata": {},
     "output_type": "execute_result"
    }
   ],
   "source": [
    "# View the resources that have been uploaded to the server so far\n",
    "all_resources = list(api_handler.get_resources(status='published',\n",
    "                                               labels=['OAI_CARE']))\n",
    "len(all_resources)"
   ]
  }
 ],
 "metadata": {
  "kernelspec": {
   "display_name": ".venv",
   "language": "python",
   "name": "python3"
  },
  "language_info": {
   "codemirror_mode": {
    "name": "ipython",
    "version": 3
   },
   "file_extension": ".py",
   "mimetype": "text/x-python",
   "name": "python",
   "nbconvert_exporter": "python",
   "pygments_lexer": "ipython3",
   "version": "3.12.6"
  }
 },
 "nbformat": 4,
 "nbformat_minor": 2
}
