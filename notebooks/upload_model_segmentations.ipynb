{
 "cells": [
  {
   "cell_type": "markdown",
   "metadata": {},
   "source": [
    "# Intro\n",
    "This notebook shows how to upload model predicted segmentations to Datamint platform. This notebook is based on these documentations:\n",
    "- [Running Experiments](https://sonanceai.github.io/datamint-python-api/running_experiments.html)\n",
    "- [Datamint Experiment class](https://sonanceai.github.io/datamint-python-api/datamint.experiment.html)"
   ]
  },
  {
   "cell_type": "code",
   "execution_count": 1,
   "metadata": {},
   "outputs": [],
   "source": [
    "from matplotlib import pyplot as plt\n",
    "import nibabel as nib\n",
    "import numpy as np"
   ]
  },
  {
   "cell_type": "markdown",
   "metadata": {},
   "source": [
    "# Configuration"
   ]
  },
  {
   "cell_type": "code",
   "execution_count": null,
   "metadata": {},
   "outputs": [],
   "source": [
    "%pip install git+https://github.com/SonanceAI/datamint-python-api"
   ]
  },
  {
   "cell_type": "markdown",
   "metadata": {},
   "source": [
    "If you haven't already, setup your api key:"
   ]
  },
  {
   "cell_type": "code",
   "execution_count": null,
   "metadata": {},
   "outputs": [],
   "source": [
    "# !datamint-config --api-key MY_API_KEY"
   ]
  },
  {
   "cell_type": "markdown",
   "metadata": {},
   "source": [
    "# Setup-up example Project and data(optional)"
   ]
  },
  {
   "cell_type": "markdown",
   "metadata": {},
   "source": [
    "creating project"
   ]
  },
  {
   "cell_type": "code",
   "execution_count": null,
   "metadata": {},
   "outputs": [],
   "source": [
    "from datamintapi.examples import ProjectMR\n",
    "\n",
    "PROJECT_NAME = 'Example Project MR'\n",
    "\n",
    "ProjectMR.create(project_name=PROJECT_NAME)"
   ]
  },
  {
   "cell_type": "markdown",
   "metadata": {},
   "source": [
    "creating a synthetic segmentation and saving it to 'segmentation.nii.gz'"
   ]
  },
  {
   "cell_type": "code",
   "execution_count": 9,
   "metadata": {},
   "outputs": [],
   "source": [
    "# The uploaded resource 'emri_small.dcm' has shape (10,64,64) (#frame, H,W).\n",
    "# default nifti files have shape (W,H,#frame). We need to swap the axes.\n",
    "\n",
    "seg_array = np.zeros((64, 64, 10), dtype=np.uint8)\n",
    "seg_array[0:16, 0:16, 0] = 1  # a box in the top-left corner\n",
    "seg_array[32:, 50, 1] = 1  # horizontal line\n",
    "seg_nii = nib.Nifti1Image(seg_array, np.eye(4))\n",
    "nib.save(seg_nii, \"segmentation1.nii.gz\")"
   ]
  },
  {
   "cell_type": "markdown",
   "metadata": {},
   "source": [
    "The segmentation looks like this:"
   ]
  },
  {
   "cell_type": "code",
   "execution_count": null,
   "metadata": {},
   "outputs": [],
   "source": [
    "_,(ax1,ax2) = plt.subplots(1,2)\n",
    "ax1.imshow(seg_array[:,:,0].transpose(1,0)) # transpose from (W,H) to (H,W)\n",
    "ax1.set_title('Frame 0')\n",
    "ax2.imshow(seg_array[:,:,1].transpose(1,0)) # transpose from (W,H) to (H,W)\n",
    "ax2.set_title('Frame 1');"
   ]
  },
  {
   "cell_type": "markdown",
   "metadata": {},
   "source": [
    "# Upload model predicted segmentations\n",
    "\n",
    "Let's assume the predictions for a single instance have already been made and stored inside a file called `segmentation1.nii.gz`.  \n",
    "We need to:\n",
    "1. Create a new experiment\n",
    "2. Associate a model with this experiment (can be an empty model)\n",
    "3. Upload the segmentation file to the experiment"
   ]
  },
  {
   "cell_type": "markdown",
   "metadata": {},
   "source": [
    "## 1. Create a new experiment"
   ]
  },
  {
   "cell_type": "code",
   "execution_count": 5,
   "metadata": {},
   "outputs": [],
   "source": [
    "from datamintapi import Experiment\n",
    "\n",
    "exp = Experiment(name='Experiment 1',\n",
    "                 project_name=PROJECT_NAME,\n",
    "                 allow_existing=True,  # If an experiment with the same name exists, allow_existing=True returns the existing experiment\n",
    "                 #  dry_run=True,  # Set dry_run=True to avoid uploading the results to the platform\n",
    "                 auto_log=False,\n",
    "                 )"
   ]
  },
  {
   "cell_type": "markdown",
   "metadata": {},
   "source": [
    "## 2. Associate a model with this experiment"
   ]
  },
  {
   "cell_type": "code",
   "execution_count": 6,
   "metadata": {},
   "outputs": [],
   "source": [
    "from torch import nn\n",
    "\n",
    "exp.log_model(nn.Module())  # Log a dummy model. You can log your trained model here."
   ]
  },
  {
   "cell_type": "markdown",
   "metadata": {},
   "source": [
    "## 3. Upload the segmentation file to the experiment"
   ]
  },
  {
   "cell_type": "code",
   "execution_count": null,
   "metadata": {},
   "outputs": [],
   "source": [
    "# Retrieve the uploaded resource\n",
    "from datamintapi import APIHandler\n",
    "\n",
    "api = APIHandler()\n",
    "\n",
    "resource = list(api.get_resources(project_name=PROJECT_NAME,\n",
    "                                  filename='emri_small'))[0]  # returns a dict\n",
    "resource.keys()"
   ]
  },
  {
   "cell_type": "code",
   "execution_count": null,
   "metadata": {},
   "outputs": [],
   "source": [
    "exp.log_segmentation_predictions(resource['id'],\n",
    "                                 predictions='segmentation1.nii.gz',\n",
    "                                 label_name='segmentation_name'  # Specify the name of your segmentation here\n",
    "                                 )\n",
    "# or upload directly using the numpy array:\n",
    "# exp.log_segmentation_predictions(resource['id'],\n",
    "#                                  predictions=seg_array.transpose(2, 1, 0),  # (W,H,#frame) -> (#frame,H,W)\n",
    "#                                  label_name='segmentation_name'\n",
    "#                                  )\n",
    "\n",
    "# You can upload the segmentation frames one by one:\n",
    "# exp.log_segmentation_predictions(resource['id'],\n",
    "#                                  predictions=seg_array.transpose(2, 1, 0)[0],  # (W,H,#frame) -> (#frame,H,W)\n",
    "#                                  label_name='segmentation_name',\n",
    "#                                  frame_index=0\n",
    "#                                  )"
   ]
  },
  {
   "cell_type": "code",
   "execution_count": null,
   "metadata": {},
   "outputs": [],
   "source": []
  }
 ],
 "metadata": {
  "kernelspec": {
   "display_name": ".venv",
   "language": "python",
   "name": "python3"
  },
  "language_info": {
   "codemirror_mode": {
    "name": "ipython",
    "version": 3
   },
   "file_extension": ".py",
   "mimetype": "text/x-python",
   "name": "python",
   "nbconvert_exporter": "python",
   "pygments_lexer": "ipython3",
   "version": "3.12.8"
  }
 },
 "nbformat": 4,
 "nbformat_minor": 2
}
